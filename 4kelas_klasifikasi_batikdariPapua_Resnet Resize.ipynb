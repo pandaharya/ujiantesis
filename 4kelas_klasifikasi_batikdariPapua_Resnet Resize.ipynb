{
  "nbformat": 4,
  "nbformat_minor": 0,
  "metadata": {
    "colab": {
      "private_outputs": true,
      "provenance": [],
      "machine_shape": "hm",
      "include_colab_link": true
    },
    "kernelspec": {
      "name": "python3",
      "display_name": "Python 3"
    },
    "language_info": {
      "name": "python"
    },
    "accelerator": "GPU",
    "gpuClass": "premium"
  },
  "cells": [
    {
      "cell_type": "markdown",
      "metadata": {
        "id": "view-in-github",
        "colab_type": "text"
      },
      "source": [
        "<a href=\"https://colab.research.google.com/github/pandaharya/ujiantesis/blob/main/4kelas_klasifikasi_batikdariPapua_Resnet%20Resize.ipynb\" target=\"_parent\"><img src=\"https://colab.research.google.com/assets/colab-badge.svg\" alt=\"Open In Colab\"/></a>"
      ]
    },
    {
      "cell_type": "code",
      "execution_count": null,
      "metadata": {
        "id": "fonfMB3a7zuc"
      },
      "outputs": [],
      "source": [
        "#import torch\n",
        "from collections import Counter\n",
        "import pandas as pd\n",
        "import plotly.express as px\n",
        "from sklearn.model_selection import train_test_split\n",
        "import os\n",
        "from glob import glob\n",
        "from torchvision import transforms\n",
        "from torchvision import datasets\n",
        "from torch.utils.data import DataLoader\n",
        "from torchvision import models\n",
        "import torch.nn as nn\n",
        "#from torchsummary import summary\n",
        "from torchvision import transforms, datasets, models\n",
        "import torch\n",
        "from torch import optim, cuda\n",
        "from torch.utils.data import DataLoader, sampler\n",
        "import torch.nn as nn\n",
        "import numpy as np\n",
        "import tqdm\n",
        "import tensorflow as tf"
      ]
    },
    {
      "cell_type": "code",
      "source": [
        "import warnings\n",
        "warnings.filterwarnings('ignore', category=FutureWarning)\n",
        "\n",
        "# Data science tools\n",
        "import numpy as np\n",
        "import pandas as pd\n",
        "import os\n",
        "\n",
        "# Image manipulations\n",
        "from PIL import Image\n",
        "\n",
        "from timeit import default_timer as timer\n",
        "\n",
        "# Visualizations\n",
        "import matplotlib.pyplot as plt\n",
        "%matplotlib inline\n",
        "plt.rcParams['font.size'] = 14"
      ],
      "metadata": {
        "id": "BF_wtZW58DA9"
      },
      "execution_count": null,
      "outputs": []
    },
    {
      "cell_type": "code",
      "source": [
        "from torch import Tensor, nn\n",
        "from torch.nn.functional import interpolate"
      ],
      "metadata": {
        "id": "dvDGIVI78EoQ"
      },
      "execution_count": null,
      "outputs": []
    },
    {
      "cell_type": "code",
      "source": [
        "def imshow_tensor(image, ax=None, title=None):\n",
        "    \"\"\"Imshow for Tensor.\"\"\"\n",
        "\n",
        "    if ax is None:\n",
        "        fig, ax = plt.subplots()\n",
        "\n",
        "    # Set the color channel as the third dimension\n",
        "    image = image.numpy().transpose((1, 2, 0))\n",
        "\n",
        "    # Reverse the preprocessing steps\n",
        "    mean = np.array([0.485, 0.456, 0.406])\n",
        "    std = np.array([0.229, 0.224, 0.225])\n",
        "    image = std * image + mean\n",
        "\n",
        "    # Clip the image pixel values\n",
        "    image = np.clip(image, 0, 1)\n",
        "\n",
        "    ax.imshow(image)\n",
        "    plt.axis('off')\n",
        "\n",
        "    return ax, image"
      ],
      "metadata": {
        "id": "cYAzYO758Sx9"
      },
      "execution_count": null,
      "outputs": []
    },
    {
      "cell_type": "code",
      "source": [
        "from google.colab import drive\n",
        "drive.mount('/content/drive')"
      ],
      "metadata": {
        "id": "m8nrYM939Kpa"
      },
      "execution_count": null,
      "outputs": []
    },
    {
      "cell_type": "code",
      "source": [
        "traindir = f\"/content/drive/MyDrive/motifbatikpapua4/train\"\n",
        "validdir = f\"/content/drive/MyDrive/motifbatikpapua4/val\"\n",
        "testdir = f\"/content/drive/MyDrive/motifbatikpapua4/test\""
      ],
      "metadata": {
        "id": "RpBQbe1h8YKV"
      },
      "execution_count": null,
      "outputs": []
    },
    {
      "cell_type": "code",
      "source": [
        "#from tensorflow.python.keras.utils.multi_gpu_utils import multi_gpu_model"
      ],
      "metadata": {
        "id": "LiwZnagD-HZN"
      },
      "execution_count": null,
      "outputs": []
    },
    {
      "cell_type": "code",
      "source": [
        "\"\"\"Load Cuda \"\"\"\n",
        "use_cuda = torch.cuda.is_available()\n",
        "device = torch.device(\"cuda:0\" if use_cuda else \"cpu\")\n",
        "torch.backends.cudnn.benchmark = True\n",
        "\"\"\"\"\"\"\"\"\"\"\"\"\"\"\"\"\"\""
      ],
      "metadata": {
        "id": "xJVvTwW1EXzL"
      },
      "execution_count": null,
      "outputs": []
    },
    {
      "cell_type": "code",
      "source": [
        "#from tensorflow.python.keras.utils import multi_gpu_utils\n",
        "save_file_name = f'resnet50-transfer.pt'\n",
        "checkpoint_path = f'resnet50-transfer.pth'\n",
        "\n",
        "# Change to fit hardware\n",
        "batch_size = 5\n",
        "\n",
        "# Whether to train on a gpu\n",
        "train_on_gpu = cuda.is_available()\n",
        "print(f'Train on gpu: {train_on_gpu}')\n",
        "\n",
        "# Number of gpus\n",
        "if train_on_gpu:\n",
        "    gpu_count = cuda.device_count()\n",
        "    print(f'{gpu_count} gpus detected.')\n",
        "    if gpu_count > 1:\n",
        "        multi_gpu_model = True\n",
        "    else:\n",
        "        multi_gpu_model = False\n",
        "print(train_on_gpu)\n",
        "print(multi_gpu_model)"
      ],
      "metadata": {
        "id": "FZvswmi69yTy"
      },
      "execution_count": null,
      "outputs": []
    },
    {
      "cell_type": "code",
      "source": [
        "# Image transformations\n",
        "image_transforms = {\n",
        "    # Train uses data augmentation\n",
        "    'train':\n",
        "    transforms.Compose([\n",
        "        transforms.RandomResizedCrop(size=256, scale=(0.8, 1.0)),\n",
        "        #transforms.RandomRotation(degrees=45),\n",
        "        #transforms.ColorJitter(brightness=0.3, contrast=0.3, saturation=0.3, hue=0.2),\n",
        "        #transforms.RandomHorizontalFlip(),\n",
        "        #transforms.RandomVerticalFlip(),\n",
        "        #transforms.RandomCrop(64),\n",
        "        #transforms.RandomGrayscale(),\n",
        "        #transforms.RandomInvert(),\n",
        "        #transforms.RandomAffine(degrees=(30, 70), translate=(0.1, 0.3), scale=(0.5, 0.75)),\n",
        "        transforms.Resize(size=256),\n",
        "        transforms.CenterCrop(size=224),  # Image net standards\n",
        "        transforms.ToTensor(),\n",
        "        transforms.Normalize([0.485, 0.456, 0.406],\n",
        "                             [0.229, 0.224, 0.225])  # Imagenet standards\n",
        "    ]),\n",
        "    # Validation does not use augmentation\n",
        "    'valid':\n",
        "    transforms.Compose([\n",
        "        transforms.Resize(size=256),\n",
        "        transforms.CenterCrop(size=224),\n",
        "        transforms.ToTensor(),\n",
        "        transforms.Normalize([0.485, 0.456, 0.406], [0.229, 0.224, 0.225])\n",
        "    ]),\n",
        "    \n",
        "        # Test does not use augmentation\n",
        "    'test':\n",
        "    transforms.Compose([\n",
        "        transforms.Resize(size=256),\n",
        "        transforms.CenterCrop(size=224),\n",
        "        transforms.ToTensor(),\n",
        "        transforms.Normalize([0.485, 0.456, 0.406], [0.229, 0.224, 0.225])\n",
        "    ]),\n",
        "}"
      ],
      "metadata": {
        "id": "PZCH_yj2AXG8"
      },
      "execution_count": null,
      "outputs": []
    },
    {
      "cell_type": "code",
      "source": [
        "ex_img = Image.open('/content/drive/MyDrive/motifbatikpapua3/train/motif tifa honai/honai06.jpg')\n",
        "\n",
        "t = image_transforms['train']\n",
        "plt.figure(figsize=(8, 8))\n",
        "\n",
        "for i in range(16):\n",
        "    ax = plt.subplot(4, 4, i + 1)\n",
        "    _ = imshow_tensor(t(ex_img), ax=ax)\n",
        "\n",
        "plt.tight_layout()"
      ],
      "metadata": {
        "id": "xO1yZ48_A4uL"
      },
      "execution_count": null,
      "outputs": []
    },
    {
      "cell_type": "code",
      "source": [
        "import glob"
      ],
      "metadata": {
        "id": "e-bm9N9RcFac"
      },
      "execution_count": null,
      "outputs": []
    },
    {
      "cell_type": "code",
      "source": [
        "image_list = glob.glob('256_ObjectCategories/*/*.jpg')\n",
        "print(len(image_list))"
      ],
      "metadata": {
        "id": "PkOgC5hib_SJ"
      },
      "execution_count": null,
      "outputs": []
    },
    {
      "cell_type": "code",
      "source": [
        "# Datasets from folders\n",
        "data = {\n",
        "    'train':\n",
        "    datasets.ImageFolder(root=traindir, transform=image_transforms['train']),\n",
        "    'valid':\n",
        "    datasets.ImageFolder(root=validdir, transform=image_transforms['valid']),\n",
        "    'test':\n",
        "    datasets.ImageFolder(root=testdir, transform=image_transforms['test'])\n",
        "}\n",
        "\n",
        "# Dataloader iterators, make sure to shuffle\n",
        "dataloaders = {\n",
        "    'train': DataLoader(data['train'], batch_size=batch_size, shuffle=True,num_workers=0),\n",
        "    'val': DataLoader(data['valid'], batch_size=batch_size, shuffle=True,num_workers=0),\n",
        "    'test': DataLoader(data['test'], batch_size=batch_size, shuffle=True,num_workers=0)\n",
        "}"
      ],
      "metadata": {
        "id": "6XCsoA65BUTX"
      },
      "execution_count": null,
      "outputs": []
    },
    {
      "cell_type": "code",
      "source": [
        "# Iterate through the dataloader once\n",
        "trainiter = iter(dataloaders['train'])\n",
        "features, labels = next(trainiter)\n",
        "features.shape, labels.shape"
      ],
      "metadata": {
        "id": "Q3CisyucBX_x"
      },
      "execution_count": null,
      "outputs": []
    },
    {
      "cell_type": "code",
      "source": [
        "categories = []\n",
        "for d in os.listdir(traindir):\n",
        "    categories.append(d)\n",
        "    \n",
        "n_classes = len(categories)\n",
        "print(f'There are {n_classes} different classes.')"
      ],
      "metadata": {
        "id": "jtPOmCUIBdfO"
      },
      "execution_count": null,
      "outputs": []
    },
    {
      "cell_type": "code",
      "source": [
        "class_to_idx = data['train'].class_to_idx\n",
        "idx_to_class = {\n",
        "    idx: class_\n",
        "    for class_, idx in data['train'].class_to_idx.items()\n",
        "}"
      ],
      "metadata": {
        "id": "3soYeAooBrtM"
      },
      "execution_count": null,
      "outputs": []
    },
    {
      "cell_type": "code",
      "source": [
        "train_cnts = Counter([idx_to_class[x] for x in data['train'].targets])\n",
        "val_cnts = Counter([idx_to_class[x] for x in data['valid'].targets])\n",
        "test_cnts = Counter([idx_to_class[x] for x in data['test'].targets])"
      ],
      "metadata": {
        "id": "eInC39nQBvrO"
      },
      "execution_count": null,
      "outputs": []
    },
    {
      "cell_type": "code",
      "source": [
        "train_cnts = pd.DataFrame({'batik_papua' :list(train_cnts.keys()), 'train_cnt': list(train_cnts.values())})\n",
        "val_cnts = pd.DataFrame({'batik_papua' :list(val_cnts.keys()), 'val_cnt': list(val_cnts.values())})\n",
        "test_cnts = pd.DataFrame({'batik_papua' :list(test_cnts.keys()), 'test_cnt': list(test_cnts.values())})"
      ],
      "metadata": {
        "id": "G8vPzWhKByQ-"
      },
      "execution_count": null,
      "outputs": []
    },
    {
      "cell_type": "code",
      "source": [
        "cnt_df = pd.merge(train_cnts,val_cnts,on='batik_papua',how='left').merge(test_cnts,on='batik_papua',how='left')"
      ],
      "metadata": {
        "id": "lxX3EYj1CQki"
      },
      "execution_count": null,
      "outputs": []
    },
    {
      "cell_type": "code",
      "source": [
        "cnt_df.head()"
      ],
      "metadata": {
        "id": "SFg-stmxCf7O"
      },
      "execution_count": null,
      "outputs": []
    },
    {
      "cell_type": "markdown",
      "source": [
        "#Create Models"
      ],
      "metadata": {
        "id": "DPvfLa7yC12M"
      }
    },
    {
      "cell_type": "code",
      "source": [
        "model = models.resnet50(pretrained=True)"
      ],
      "metadata": {
        "id": "OhEruhhSCw4J"
      },
      "execution_count": null,
      "outputs": []
    },
    {
      "cell_type": "code",
      "source": [
        "for param in model.parameters():\n",
        "    param.requires_grad = False"
      ],
      "metadata": {
        "id": "apk_KtRoR3-B"
      },
      "execution_count": null,
      "outputs": []
    },
    {
      "cell_type": "code",
      "source": [
        "print(model)"
      ],
      "metadata": {
        "id": "jnDDQ5hMThdV"
      },
      "execution_count": null,
      "outputs": []
    },
    {
      "cell_type": "code",
      "source": [
        "n_inputs = model.fc.in_features"
      ],
      "metadata": {
        "id": "Kty1fXpWTm8z"
      },
      "execution_count": null,
      "outputs": []
    },
    {
      "cell_type": "code",
      "source": [
        "model.fc = nn.Sequential(\n",
        "                      nn.Linear(n_inputs, 256), \n",
        "                      nn.ReLU(inplace=True),\n",
        "                      #nn.ReLU(), \n",
        "                      #nn.Dropout(0.4),\n",
        "                      nn.Linear(256, 128),\n",
        "                      nn.ReLU(), \n",
        "                      #nn.Dropout(0.4),\n",
        "                      #nn.Linear(128, 32),\n",
        "                      #nn.ReLU(), \n",
        "                      #nn.Dropout(0.4),\n",
        "                      nn.Linear(128, n_classes),                   \n",
        "                      nn.LogSoftmax(dim=1)\n",
        "                      )"
      ],
      "metadata": {
        "id": "QH1eKg6EMoua"
      },
      "execution_count": null,
      "outputs": []
    },
    {
      "cell_type": "code",
      "source": [
        "model.fc"
      ],
      "metadata": {
        "id": "nV830ca4T3mh"
      },
      "execution_count": null,
      "outputs": []
    },
    {
      "cell_type": "code",
      "source": [
        "total_params = sum(p.numel() for p in model.parameters())\n",
        "print(f'{total_params:,} total parameters.')\n",
        "total_trainable_params = sum(\n",
        "    p.numel() for p in model.parameters() if p.requires_grad)\n",
        "print(f'{total_trainable_params:,} training parameters.')"
      ],
      "metadata": {
        "id": "5tbbINrTUAkI"
      },
      "execution_count": null,
      "outputs": []
    },
    {
      "cell_type": "code",
      "source": [
        "if train_on_gpu:\n",
        "    model = model.to('cuda')\n",
        "\n",
        "if multi_gpu_model:\n",
        "    model = nn.DataParallel(model)"
      ],
      "metadata": {
        "id": "HTZLUoa5UCaE"
      },
      "execution_count": null,
      "outputs": []
    },
    {
      "cell_type": "code",
      "source": [
        "if multi_gpu_model:\n",
        "    print(model.module.fc)\n",
        "else:\n",
        "    print(model.fc)"
      ],
      "metadata": {
        "id": "Cw0mKZxbUJv7"
      },
      "execution_count": null,
      "outputs": []
    },
    {
      "cell_type": "code",
      "source": [
        "model.class_to_idx = data['train'].class_to_idx\n",
        "model.idx_to_class = {\n",
        "    idx: class_\n",
        "    for class_, idx in model.class_to_idx.items()\n",
        "}\n",
        "\n",
        "list(model.idx_to_class.items())[:10]"
      ],
      "metadata": {
        "id": "qfj8QULDUPWC"
      },
      "execution_count": null,
      "outputs": []
    },
    {
      "cell_type": "code",
      "source": [
        "criterion = nn.NLLLoss()\n",
        "#criterion = nn.CrossEntropyLoss()\n",
        "optimizer = optim.Adam(model.parameters(), lr=0.00001)"
      ],
      "metadata": {
        "id": "VGWrEOHaUUm5"
      },
      "execution_count": null,
      "outputs": []
    },
    {
      "cell_type": "code",
      "source": [
        "for p in optimizer.param_groups[0]['params']:\n",
        "    if p.requires_grad:\n",
        "        print(p.shape)"
      ],
      "metadata": {
        "id": "InldG47MUUgz"
      },
      "execution_count": null,
      "outputs": []
    },
    {
      "cell_type": "code",
      "source": [
        "def train(model,\n",
        "          criterion,\n",
        "          optimizer,\n",
        "          train_loader,\n",
        "          valid_loader,\n",
        "          save_file_name,\n",
        "          max_epochs_stop=5,\n",
        "          n_epochs=20,\n",
        "          print_every=1):\n",
        "    \"\"\"Train a PyTorch Model\n",
        "\n",
        "    Params\n",
        "    --------\n",
        "        model (PyTorch model): cnn to train\n",
        "        criterion (PyTorch loss): objective to minimize\n",
        "        optimizer (PyTorch optimizier): optimizer to compute gradients of model parameters\n",
        "        train_loader (PyTorch dataloader): training dataloader to iterate through\n",
        "        valid_loader (PyTorch dataloader): validation dataloader used for early stopping\n",
        "        save_file_name (str ending in '.pt'): file path to save the model state dict\n",
        "        max_epochs_stop (int): maximum number of epochs with no improvement in validation loss for early stopping\n",
        "        n_epochs (int): maximum number of training epochs\n",
        "        print_every (int): frequency of epochs to print training stats\n",
        "\n",
        "    Returns\n",
        "    --------\n",
        "        model (PyTorch model): trained cnn with best weights\n",
        "        history (DataFrame): history of train and validation loss and accuracy\n",
        "    \"\"\"\n",
        "\n",
        "    # Early stopping intialization\n",
        "    epochs_no_improve = 0\n",
        "    valid_loss_min = np.Inf\n",
        "\n",
        "    valid_max_acc = 0\n",
        "    history = []\n",
        "\n",
        "    # Number of epochs already trained (if using loaded in model weights)\n",
        "    try:\n",
        "        print(f'Model has been trained for: {model.epochs} epochs.\\n')\n",
        "    except:\n",
        "        model.epochs = 0\n",
        "        print(f'Starting Training from Scratch.\\n')\n",
        "\n",
        "    overall_start = timer()\n",
        "\n",
        "    # Main loop\n",
        "    for epoch in range(n_epochs):\n",
        "\n",
        "        # keep track of training and validation loss each epoch\n",
        "        train_loss = 0.0\n",
        "        valid_loss = 0.0\n",
        "\n",
        "        train_acc = 0\n",
        "        valid_acc = 0\n",
        "\n",
        "        # Set to training\n",
        "        model.train()\n",
        "        start = timer()\n",
        "\n",
        "        # Training loop\n",
        "        for ii, (data, target) in enumerate(train_loader):\n",
        "            # Tensors to gpu\n",
        "            if train_on_gpu:\n",
        "                data, target = data.cuda(), target.cuda()\n",
        "\n",
        "            # Clear gradients\n",
        "            optimizer.zero_grad()\n",
        "            # Predicted outputs are log probabilities\n",
        "            output = model(data)\n",
        "\n",
        "            # Loss and backpropagation of gradients\n",
        "            loss = criterion(output, target)\n",
        "            loss.backward()\n",
        "\n",
        "            # Update the parameters\n",
        "            optimizer.step()\n",
        "\n",
        "            # Track train loss by multiplying average loss by number of examples in batch\n",
        "            train_loss += loss.item() * data.size(0)\n",
        "\n",
        "            # Calculate accuracy by finding max log probability\n",
        "            _, pred = torch.max(output, dim=1)\n",
        "            correct_tensor = pred.eq(target.data.view_as(pred))\n",
        "            # Need to convert correct tensor from int to float to average\n",
        "            accuracy = torch.mean(correct_tensor.type(torch.FloatTensor))\n",
        "            # Multiply average accuracy times the number of examples in batch\n",
        "            train_acc += accuracy.item() * data.size(0)\n",
        "\n",
        "            # Track training progress\n",
        "            print(\n",
        "                f'Epoch: {epoch}\\t{100 * (ii + 1) / len(train_loader):.2f}% complete. {timer() - start:.2f} seconds elapsed in epoch.',\n",
        "                end='\\r')\n",
        "\n",
        "        # After training loops ends, start validation\n",
        "        else:\n",
        "            model.epochs += 1\n",
        "\n",
        "            # Don't need to keep track of gradients\n",
        "            with torch.no_grad():\n",
        "                # Set to evaluation mode\n",
        "                model.eval()\n",
        "\n",
        "                # Validation loop\n",
        "                for data, target in valid_loader:\n",
        "                    # Tensors to gpu\n",
        "                    if train_on_gpu:\n",
        "                        data, target = data.cuda(), target.cuda()\n",
        "\n",
        "                    # Forward pass\n",
        "                    output = model(data)\n",
        "\n",
        "                    # Validation loss\n",
        "                    loss = criterion(output, target)\n",
        "                    # Multiply average loss times the number of examples in batch\n",
        "                    valid_loss += loss.item() * data.size(0)\n",
        "\n",
        "                    # Calculate validation accuracy\n",
        "                    _, pred = torch.max(output, dim=1)\n",
        "                    correct_tensor = pred.eq(target.data.view_as(pred))\n",
        "                    accuracy = torch.mean(\n",
        "                        correct_tensor.type(torch.FloatTensor))\n",
        "                    # Multiply average accuracy times the number of examples\n",
        "                    valid_acc += accuracy.item() * data.size(0)\n",
        "\n",
        "                # Calculate average losses\n",
        "                train_loss = train_loss / len(train_loader.dataset)\n",
        "                valid_loss = valid_loss / len(valid_loader.dataset)\n",
        "\n",
        "                # Calculate average accuracy\n",
        "                train_acc = train_acc / len(train_loader.dataset)\n",
        "                valid_acc = valid_acc / len(valid_loader.dataset)\n",
        "\n",
        "                history.append([train_loss, valid_loss, train_acc, valid_acc])\n",
        "\n",
        "                # Print training and validation results\n",
        "                if (epoch + 1) % print_every == 0:\n",
        "                    print(\n",
        "                        f'\\nEpoch: {epoch} \\tTraining Loss: {train_loss:.4f} \\tValidation Loss: {valid_loss:.4f}'\n",
        "                    )\n",
        "                    print(\n",
        "                        f'\\t\\tTraining Accuracy: {100 * train_acc:.2f}%\\t Validation Accuracy: {100 * valid_acc:.2f}%'\n",
        "                    )\n",
        "\n",
        "                # Save the model if validation loss decreases\n",
        "                if valid_loss < valid_loss_min:\n",
        "                    # Save model\n",
        "                    torch.save(model.state_dict(), save_file_name)\n",
        "                    # Track improvement\n",
        "                    epochs_no_improve = 0\n",
        "                    valid_loss_min = valid_loss\n",
        "                    valid_best_acc = valid_acc\n",
        "                    best_epoch = epoch\n",
        "\n",
        "                # Otherwise increment count of epochs with no improvement\n",
        "                else:\n",
        "                    epochs_no_improve += 1\n",
        "                    # Trigger early stopping\n",
        "                    if epochs_no_improve >= max_epochs_stop:\n",
        "                        print(\n",
        "                            f'\\nEarly Stopping! Total epochs: {epoch}. Best epoch: {best_epoch} with loss: {valid_loss_min:.2f} and acc: {100 * valid_acc:.2f}%'\n",
        "                        )\n",
        "                        total_time = timer() - overall_start\n",
        "                        print(\n",
        "                            f'{total_time:.2f} total seconds elapsed. {total_time / (epoch+1):.2f} seconds per epoch.'\n",
        "                        )\n",
        "\n",
        "                        # Load the best state dict\n",
        "                        model.load_state_dict(torch.load(save_file_name))\n",
        "                        # Attach the optimizer\n",
        "                        model.optimizer = optimizer\n",
        "\n",
        "                        # Format history\n",
        "                        history = pd.DataFrame(\n",
        "                            history,\n",
        "                            columns=[\n",
        "                                'train_loss', 'valid_loss', 'train_acc',\n",
        "                                'valid_acc'\n",
        "                            ])\n",
        "                        return model, history\n",
        "\n",
        "    # Attach the optimizer\n",
        "    model.optimizer = optimizer\n",
        "    # Record overall time and print out stats\n",
        "    total_time = timer() - overall_start\n",
        "    print(\n",
        "        f'\\nBest epoch: {best_epoch} with loss: {valid_loss_min:.2f} and acc: {100 * valid_acc:.2f}%'\n",
        "    )\n",
        "    print(\n",
        "        f'{total_time:.2f} total seconds elapsed. {total_time / (epoch):.2f} seconds per epoch.'\n",
        "    )\n",
        "    # Format history\n",
        "    history = pd.DataFrame(\n",
        "        history,\n",
        "        columns=['train_loss', 'valid_loss', 'train_acc', 'valid_acc'])\n",
        "    return model, history"
      ],
      "metadata": {
        "id": "2t8czALiUX9A"
      },
      "execution_count": null,
      "outputs": []
    },
    {
      "cell_type": "code",
      "source": [
        "model, history = train(\n",
        "    model,\n",
        "    criterion,\n",
        "    optimizer,\n",
        "    dataloaders['train'],\n",
        "    dataloaders['val'],\n",
        "    save_file_name=save_file_name,\n",
        "    max_epochs_stop=5,\n",
        "    n_epochs=150,\n",
        "    print_every=1)"
      ],
      "metadata": {
        "id": "C-nMpqRoUjZV"
      },
      "execution_count": null,
      "outputs": []
    },
    {
      "cell_type": "code",
      "source": [
        "plt.figure(figsize=(8, 6))\n",
        "for c in ['train_loss', 'valid_loss']:\n",
        "    plt.plot(\n",
        "        history[c], label=c)\n",
        "plt.legend()\n",
        "plt.xlabel('Epoch')\n",
        "plt.ylabel('Average Negative Log Likelihood')\n",
        "plt.title('Training and Validation Losses')"
      ],
      "metadata": {
        "id": "bU4dkYxNEMgb"
      },
      "execution_count": null,
      "outputs": []
    },
    {
      "cell_type": "code",
      "source": [
        "plt.figure(figsize=(8, 6))\n",
        "for c in ['train_acc', 'valid_acc']:\n",
        "    plt.plot(\n",
        "        100 * history[c], label=c)\n",
        "plt.legend()\n",
        "plt.xlabel('Epoch')\n",
        "plt.ylabel('Average Accuracy')\n",
        "plt.title('Training and Validation Accuracy')"
      ],
      "metadata": {
        "id": "2WGtKuByEiQU"
      },
      "execution_count": null,
      "outputs": []
    },
    {
      "cell_type": "markdown",
      "source": [
        "#Save Model"
      ],
      "metadata": {
        "id": "K66vHwzRTTvr"
      }
    },
    {
      "cell_type": "code",
      "source": [
        "def save_checkpoint(model, path):\n",
        "    \"\"\"Save a PyTorch model checkpoint\n",
        "\n",
        "    Params\n",
        "    --------\n",
        "        model (PyTorch model): model to save\n",
        "        path (str): location to save model. Must start with `model_name-` and end in '.pth'\n",
        "\n",
        "    Returns\n",
        "    --------\n",
        "        None, save the `model` to `path`\n",
        "\n",
        "    \"\"\"\n",
        "\n",
        "    model_name = path.split('-')[0]\n",
        "    assert (model_name in ['vgg16', 'resnet50'\n",
        "                           ]), \"Path must have the correct model name\"\n",
        "\n",
        "    # Basic details\n",
        "    checkpoint = {\n",
        "        'class_to_idx': model.class_to_idx,\n",
        "        'idx_to_class': model.idx_to_class,\n",
        "        'epochs': model.epochs,\n",
        "    }\n",
        "\n",
        "    # Extract the final classifier and the state dictionary\n",
        "    if model_name == 'vgg16':\n",
        "        # Check to see if model was parallelized\n",
        "        if multi_gpu_model:\n",
        "            checkpoint['classifier'] = model.module.classifier\n",
        "            checkpoint['state_dict'] = model.module.state_dict()\n",
        "        else:\n",
        "            checkpoint['classifier'] = model.classifier\n",
        "            checkpoint['state_dict'] = model.state_dict()\n",
        "\n",
        "    elif model_name == 'resnet50':\n",
        "        if multi_gpu_model:\n",
        "            checkpoint['fc'] = model.module.fc\n",
        "            checkpoint['state_dict'] = model.module.state_dict()\n",
        "        else:\n",
        "            checkpoint['fc'] = model.fc\n",
        "            checkpoint['state_dict'] = model.state_dict()\n",
        "\n",
        "    # Add the optimizer\n",
        "    checkpoint['optimizer'] = model.optimizer\n",
        "    checkpoint['optimizer_state_dict'] = model.optimizer.state_dict()\n",
        "\n",
        "    # Save the data to the path\n",
        "    torch.save(checkpoint, path)"
      ],
      "metadata": {
        "id": "WFtmjk3KFvNC"
      },
      "execution_count": null,
      "outputs": []
    },
    {
      "cell_type": "code",
      "source": [
        "save_checkpoint(model, path=checkpoint_path)"
      ],
      "metadata": {
        "id": "hj8yPpMcF4eS"
      },
      "execution_count": null,
      "outputs": []
    },
    {
      "cell_type": "markdown",
      "source": [
        "#checkpoint"
      ],
      "metadata": {
        "id": "XiN8ORRjTWGa"
      }
    },
    {
      "cell_type": "code",
      "source": [
        "def load_checkpoint(path):\n",
        "    \"\"\"Load a PyTorch model checkpoint\n",
        "\n",
        "    Params\n",
        "    --------\n",
        "        path (str): saved model checkpoint. Must start with `model_name-` and end in '.pth'\n",
        "\n",
        "    Returns\n",
        "    --------\n",
        "        None, save the `model` to `path`\n",
        "\n",
        "    \"\"\"\n",
        "\n",
        "    # Get the model name\n",
        "    model_name = path.split('-')[0]\n",
        "    assert (model_name in ['vgg16', 'resnet50'\n",
        "                           ]), \"Path must have the correct model name\"\n",
        "\n",
        "    # Load in checkpoint\n",
        "    checkpoint = torch.load(path)\n",
        "\n",
        "    if model_name == 'vgg16':\n",
        "        model = models.vgg16(pretrained=True)\n",
        "        # Make sure to set parameters as not trainable\n",
        "        for param in model.parameters():\n",
        "            param.requires_grad = False\n",
        "        model.classifier = checkpoint['classifier']\n",
        "\n",
        "    elif model_name == 'resnet50':\n",
        "        model = models.resnet50(pretrained=True)\n",
        "        # Make sure to set parameters as not trainable\n",
        "        for param in model.parameters():\n",
        "            param.requires_grad = False\n",
        "        model.fc = checkpoint['fc']\n",
        "\n",
        "    # Load in the state dict\n",
        "    model.load_state_dict(checkpoint['state_dict'])\n",
        "\n",
        "    total_params = sum(p.numel() for p in model.parameters())\n",
        "    print(f'{total_params:,} total parameters.')\n",
        "    total_trainable_params = sum(\n",
        "        p.numel() for p in model.parameters() if p.requires_grad)\n",
        "    print(f'{total_trainable_params:,} total gradient parameters.')\n",
        "\n",
        "    # Move to gpu\n",
        "    if multi_gpu_model:\n",
        "        model = nn.DataParallel(model)\n",
        "\n",
        "    if train_on_gpu:\n",
        "        model = model.to('cuda')\n",
        "\n",
        "    # Model basics\n",
        "    model.class_to_idx = checkpoint['class_to_idx']\n",
        "    model.idx_to_class = checkpoint['idx_to_class']\n",
        "    model.epochs = checkpoint['epochs']\n",
        "\n",
        "    # Optimizer\n",
        "    optimizer = checkpoint['optimizer']\n",
        "    optimizer.load_state_dict(checkpoint['optimizer_state_dict'])\n",
        "\n",
        "    return model, optimizer"
      ],
      "metadata": {
        "id": "AM7QJP95GCnB"
      },
      "execution_count": null,
      "outputs": []
    },
    {
      "cell_type": "code",
      "source": [
        "model, optimizer = load_checkpoint(path=checkpoint_path)"
      ],
      "metadata": {
        "id": "yOMBN1n1GKi7"
      },
      "execution_count": null,
      "outputs": []
    },
    {
      "cell_type": "markdown",
      "source": [
        "#Inference"
      ],
      "metadata": {
        "id": "DMg-49lwGQ6R"
      }
    },
    {
      "cell_type": "code",
      "source": [
        "def process_image(image_path):\n",
        "    \"\"\"Process an image path into a PyTorch tensor\"\"\"\n",
        "\n",
        "    image = Image.open(image_path)\n",
        "    # Resize\n",
        "    img = image.resize((256, 256))\n",
        "\n",
        "    # Center crop\n",
        "    width = 256\n",
        "    height = 256\n",
        "    new_width = 224\n",
        "    new_height = 224\n",
        "\n",
        "    left = (width - new_width) / 2\n",
        "    top = (height - new_height) / 2\n",
        "    right = (width + new_width) / 2\n",
        "    bottom = (height + new_height) / 2\n",
        "    img = img.crop((left, top, right, bottom))\n",
        "\n",
        "    # Convert to numpy, transpose color dimension and normalize\n",
        "    img = np.array(img).transpose((2, 0, 1)) / 256\n",
        "\n",
        "    # Standardization\n",
        "    means = np.array([0.485, 0.456, 0.406]).reshape((3, 1, 1))\n",
        "    stds = np.array([0.229, 0.224, 0.225]).reshape((3, 1, 1))\n",
        "\n",
        "    img = img - means\n",
        "    img = img / stds\n",
        "\n",
        "    img_tensor = torch.Tensor(img)\n",
        "\n",
        "    return img_tensor"
      ],
      "metadata": {
        "id": "w61epiQbGOHB"
      },
      "execution_count": null,
      "outputs": []
    },
    {
      "cell_type": "code",
      "source": [
        "def predict(image_path, model, topk=5):\n",
        "    \"\"\"Make a prediction for an image using a trained model\n",
        "\n",
        "    Params\n",
        "    --------\n",
        "        image_path (str): filename of the image\n",
        "        model (PyTorch model): trained model for inference\n",
        "        topk (int): number of top predictions to return\n",
        "\n",
        "    Returns\n",
        "        \n",
        "    \"\"\"\n",
        "    real_class = image_path.split('/')[-2]\n",
        "\n",
        "    # Convert to pytorch tensor\n",
        "    img_tensor = process_image(image_path)\n",
        "\n",
        "    # Resize\n",
        "    if train_on_gpu:\n",
        "        img_tensor = img_tensor.view(1, 3, 224, 224).cuda()\n",
        "    else:\n",
        "        img_tensor = img_tensor.view(1, 3, 224, 224)\n",
        "\n",
        "    # Set to evaluation\n",
        "    with torch.no_grad():\n",
        "        model.eval()\n",
        "        # Model outputs log probabilities\n",
        "        out = model(img_tensor)\n",
        "        ps = torch.exp(out)\n",
        "\n",
        "        # Find the topk predictions\n",
        "        topk, topclass = ps.topk(topk, dim=1)\n",
        "\n",
        "        # Extract the actual classes and probabilities\n",
        "        top_classes = [\n",
        "            model.idx_to_class[class_] for class_ in topclass.cpu().numpy()[0]\n",
        "        ]\n",
        "        top_p = topk.cpu().numpy()[0]\n",
        "\n",
        "        return img_tensor.cpu().squeeze(), top_p, top_classes, real_class"
      ],
      "metadata": {
        "id": "XCTO0C3JGWrS"
      },
      "execution_count": null,
      "outputs": []
    },
    {
      "cell_type": "code",
      "source": [
        "np.random.seed = 100\n",
        "\n",
        "\n",
        "def random_test_image():\n",
        "    \"\"\"Pick a random test image from the test directory\"\"\"\n",
        "    c = np.random.choice(categories)\n",
        "    root = testdir +\"/\"+ c + '/'\n",
        "    img_path = root + np.random.choice(os.listdir(root))\n",
        "    return img_path\n",
        "\n",
        "\n",
        "_ = imshow_tensor(process_image(random_test_image()))"
      ],
      "metadata": {
        "id": "hzcMTUgpGa3C"
      },
      "execution_count": null,
      "outputs": []
    },
    {
      "cell_type": "code",
      "source": [
        "img, top_p, top_classes, real_class = predict(random_test_image(), model,topk=2)"
      ],
      "metadata": {
        "id": "xBhIe1VfGh-P"
      },
      "execution_count": null,
      "outputs": []
    },
    {
      "cell_type": "code",
      "source": [
        "top_p, top_classes, real_class"
      ],
      "metadata": {
        "id": "xFCLN1cfGjah"
      },
      "execution_count": null,
      "outputs": []
    },
    {
      "cell_type": "markdown",
      "source": [
        "#Display Preds"
      ],
      "metadata": {
        "id": "k0qAMFn7GpDy"
      }
    },
    {
      "cell_type": "code",
      "source": [
        "def display_prediction(image_path, model, topk):\n",
        "    \"\"\"Display image and preditions from model\"\"\"\n",
        "\n",
        "    # Get predictions\n",
        "    img, ps, classes, y_obs = predict(image_path, model, topk)\n",
        "    # Convert results to dataframe for plotting\n",
        "    result = pd.DataFrame({'p': ps}, index=classes)\n",
        "\n",
        "    # Show the image\n",
        "    plt.figure(figsize=(16, 5))\n",
        "    ax = plt.subplot(1, 2, 1)\n",
        "    ax, img = imshow_tensor(img, ax=ax)\n",
        "\n",
        "    # Set title to be the actual class\n",
        "    ax.set_title(y_obs, size=20)\n",
        "\n",
        "    ax = plt.subplot(1, 2, 2)\n",
        "    # Plot a bar plot of predictions\n",
        "    result.sort_values('p')['p'].plot.barh(color='blue', edgecolor='k', ax=ax)\n",
        "    plt.xlabel('Predicted Probability')\n",
        "    plt.tight_layout()"
      ],
      "metadata": {
        "id": "N5Xw-RTWGmVh"
      },
      "execution_count": null,
      "outputs": []
    },
    {
      "cell_type": "code",
      "source": [
        "display_prediction(random_test_image(), model, topk=3)"
      ],
      "metadata": {
        "id": "L1E2PUq3GtF4"
      },
      "execution_count": null,
      "outputs": []
    },
    {
      "cell_type": "code",
      "source": [
        "def accuracy(output, target, topk=(1, )):\n",
        "    \"\"\"Compute the topk accuracy(s)\"\"\"\n",
        "    if train_on_gpu:\n",
        "        output = output.to('cuda')\n",
        "        target = target.to('cuda')\n",
        "\n",
        "    with torch.no_grad():\n",
        "        maxk = max(topk)\n",
        "        batch_size = target.size(0)\n",
        "\n",
        "        # Find the predicted classes and transpose\n",
        "        _, pred = output.topk(k=maxk, dim=1, largest=True, sorted=True)\n",
        "        pred = pred.t()\n",
        "\n",
        "        # Determine predictions equal to the targets\n",
        "        correct = pred.eq(target.view(1, -1).expand_as(pred))\n",
        "\n",
        "        res = []\n",
        "\n",
        "        # For each k, find the percentage of correct\n",
        "        for k in topk:\n",
        "            correct_k = correct[:k].view(-1).float().sum(0, keepdim=True)\n",
        "            res.append(correct_k.mul_(100.0 / batch_size).item())\n",
        "        return res"
      ],
      "metadata": {
        "id": "9-COJSIHG1KC"
      },
      "execution_count": null,
      "outputs": []
    },
    {
      "cell_type": "code",
      "source": [
        "testiter = iter(dataloaders['test'])\n",
        "# Get a batch of testing images and labels\n",
        "features, targets = next(testiter)\n",
        "\n",
        "if train_on_gpu:\n",
        "  res = accuracy(model(features.to('cuda')), targets, topk=(1,1))\n",
        "else:\n",
        "  res = accuracy(model(features), targets, topk=(1,1))\n",
        "print(res)"
      ],
      "metadata": {
        "id": "XaH3QabqG3Lu"
      },
      "execution_count": null,
      "outputs": []
    },
    {
      "cell_type": "markdown",
      "source": [
        "#Function to Evaluate Model Over All Classes"
      ],
      "metadata": {
        "id": "AGg_4Q4oS2Q7"
      }
    },
    {
      "cell_type": "code",
      "source": [
        "def evaluate(model, test_loader, criterion, topk=(1, 3)):\n",
        "    \"\"\"Measure the performance of a trained PyTorch model\n",
        "\n",
        "    Params\n",
        "    --------\n",
        "        model (PyTorch model): trained cnn for inference\n",
        "        test_loader (PyTorch DataLoader): test dataloader\n",
        "        topk (tuple of ints): accuracy to measure\n",
        "\n",
        "    Returns\n",
        "    --------\n",
        "        results (DataFrame): results for each category\n",
        "\n",
        "    \"\"\"\n",
        "    confusion_matrix = torch.zeros(n_classes, n_classes)\n",
        "    classes = []\n",
        "    losses = []\n",
        "    # Hold accuracy results\n",
        "    acc_results = np.zeros((len(test_loader.dataset), len(topk)))\n",
        "    i = 0\n",
        "\n",
        "    model.eval()\n",
        "    with torch.no_grad():\n",
        "\n",
        "        # Testing loop\n",
        "        for data, targets in test_loader:\n",
        "\n",
        "            # Tensors to gpu\n",
        "            if train_on_gpu:\n",
        "                data, targets = data.to('cuda'), targets.to('cuda')\n",
        "\n",
        "            # Raw model output\n",
        "            out = model(data)\n",
        "            _, predscm = torch.max(out, 1)\n",
        "            for t, p in zip(targets.view(-1), predscm.view(-1)):\n",
        "                confusion_matrix[t.long(), p.long()] += 1\n",
        "            \n",
        "            # Iterate through each example\n",
        "            for pred, true in zip(out, targets):\n",
        "                # Find topk accuracy\n",
        "                acc_results[i, :] = accuracy(\n",
        "                    pred.unsqueeze(0), true.unsqueeze(0), topk)\n",
        "                classes.append(model.idx_to_class[true.item()])\n",
        "                # Calculate the loss\n",
        "                loss = criterion(pred.view(1, n_classes), true.view(1))\n",
        "                losses.append(loss.item())\n",
        "                i += 1\n",
        "\n",
        "    # Send results to a dataframe and calculate average across classes\n",
        "    results = pd.DataFrame(acc_results, columns=[f'top{i}' for i in topk])\n",
        "    results['class'] = classes\n",
        "    results['loss'] = losses\n",
        "    results = results.groupby(classes).mean()\n",
        "\n",
        "    return results.reset_index().rename(columns={'index': 'class'}),confusion_matrix\n",
        "\n",
        "criterion = nn.NLLLoss()\n",
        "# Evaluate the model on all the training data\n",
        "results,confusion_matrix = evaluate(model, dataloaders['test'], criterion)"
      ],
      "metadata": {
        "id": "JyFoqVI4TEX-"
      },
      "execution_count": null,
      "outputs": []
    },
    {
      "cell_type": "code",
      "source": [
        "import itertools\n",
        "import numpy as np\n",
        "import matplotlib.pyplot as plt\n",
        "\n",
        "def plot_confusion_matrix(cm, classes, normalize=False, title='Confusion matrix', cmap=plt.cm.Blues):\n",
        "    if normalize:\n",
        "        cm = cm.astype('float') / cm.sum(axis=1)[:, np.newaxis]\n",
        "        print(\"Normalized confusion matrix\")\n",
        "    else:\n",
        "        print('Confusion matrix, without normalization')\n",
        "\n",
        "    #print(cm)\n",
        "    plt.imshow(cm, interpolation='nearest', cmap=cmap)\n",
        "    plt.title(title)\n",
        "    plt.colorbar()\n",
        "    tick_marks = np.arange(len(classes))\n",
        "    plt.xticks(tick_marks, classes, rotation=45)\n",
        "    plt.yticks(tick_marks, classes)\n",
        "\n",
        "    fmt = '.2f' if normalize else '.0f'\n",
        "    thresh = cm.max() / 2.\n",
        "    for i, j in itertools.product(range(cm.shape[0]), range(cm.shape[1])):\n",
        "        plt.text(j, i, format(cm[i, j], fmt), horizontalalignment=\"center\", color=\"white\" if cm[i, j] > thresh else \"black\")\n",
        "\n",
        "    plt.tight_layout()\n",
        "    plt.ylabel('True label')\n",
        "    plt.xlabel('Predicted label')\n",
        "    plt.savefig(f'confusion_matrix.png')\n",
        "    return plt"
      ],
      "metadata": {
        "id": "S0gFCwQXTjWS"
      },
      "execution_count": null,
      "outputs": []
    },
    {
      "cell_type": "code",
      "source": [
        "classnames = [model.idx_to_class[i] for i in range(0,n_classes)]"
      ],
      "metadata": {
        "id": "TXi4wyxHTprl"
      },
      "execution_count": null,
      "outputs": []
    },
    {
      "cell_type": "code",
      "source": [
        "plt.figure(figsize=(10,10))\n",
        "plt = plot_confusion_matrix(confusion_matrix, classnames)"
      ],
      "metadata": {
        "id": "p7aZGfPcTrxt"
      },
      "execution_count": null,
      "outputs": []
    },
    {
      "cell_type": "code",
      "source": [
        "def cm_as_dataframe(cm):\n",
        "    cm = pd.DataFrame(cm)\n",
        "    cm.columns = classnames\n",
        "    cm.index = classnames\n",
        "    cm = cm.reset_index()\n",
        "    return cm\n",
        "\n",
        "cm_as_dataframe(confusion_matrix.cpu().numpy()).to_csv(f'confmat.csv',index=None)"
      ],
      "metadata": {
        "id": "vic0Vop4UBCs"
      },
      "execution_count": null,
      "outputs": []
    },
    {
      "cell_type": "code",
      "source": [
        "print(f\"Overall Accuracy:{confusion_matrix.diag().sum()/confusion_matrix.sum()}\")\n",
        "\n",
        "#rint(f\"Overall Accuracy:{confusion_matrix.diag().f()/confusion_matrix.sum()}\")"
      ],
      "metadata": {
        "id": "uS0YNjoRULFz"
      },
      "execution_count": null,
      "outputs": []
    },
    {
      "cell_type": "code",
      "source": [
        "results = results.merge(cnt_df,left_on='class',right_on='batik_papua')"
      ],
      "metadata": {
        "id": "Af0jn76tUOBh"
      },
      "execution_count": null,
      "outputs": []
    },
    {
      "cell_type": "code",
      "source": [
        "results"
      ],
      "metadata": {
        "id": "FCSba3T7UbrB"
      },
      "execution_count": null,
      "outputs": []
    },
    {
      "cell_type": "code",
      "source": [
        "results.to_csv(f'test_accuracy.csv',index=None)"
      ],
      "metadata": {
        "id": "BjMb0YWOUfPx"
      },
      "execution_count": null,
      "outputs": []
    },
    {
      "cell_type": "code",
      "source": [
        "def display_category(model, category, n=4):\n",
        "    \"\"\"Display predictions for a category    \n",
        "    \"\"\"\n",
        "    category_results = results.loc[results['class'] == category]\n",
        "    #print(category_results.iloc[:, :10], '/n')\n",
        "\n",
        "    images = np.random.choice(\n",
        "        os.listdir(testdir + \"/\"+category + '/'), size=n, replace=False)\n",
        "\n",
        "    for img in images:\n",
        "        display_prediction(testdir +\"/\"+ category + '/' + img, model, 4)"
      ],
      "metadata": {
        "id": "aeJIfZLKUlOf"
      },
      "execution_count": null,
      "outputs": []
    },
    {
      "cell_type": "code",
      "source": [
        "display_category(model, 'motif tifa honai', n=3)"
      ],
      "metadata": {
        "id": "TvAQvurRUpXO"
      },
      "execution_count": null,
      "outputs": []
    },
    {
      "cell_type": "markdown",
      "source": [
        "#Test Time Augmentation"
      ],
      "metadata": {
        "id": "v6EsZSdmVAxt"
      }
    },
    {
      "cell_type": "code",
      "source": [
        "import tqdm as tqdm"
      ],
      "metadata": {
        "id": "JJBCgWJxetTG"
      },
      "execution_count": null,
      "outputs": []
    },
    {
      "cell_type": "code",
      "source": [
        "# Image transformations\n",
        "tta_random_image_transforms = transforms.Compose([\n",
        "        transforms.RandomResizedCrop(size=256, scale=(0.8, 1.0)),\n",
        "        transforms.RandomRotation(degrees=15),\n",
        "        transforms.ColorJitter(),\n",
        "        transforms.RandomHorizontalFlip(),\n",
        "        transforms.CenterCrop(size=224),  # Image net standards\n",
        "        transforms.ToTensor(),\n",
        "        transforms.Normalize([0.485, 0.456, 0.406],\n",
        "                             [0.229, 0.224, 0.225])  # Imagenet standards\n",
        "    ])"
      ],
      "metadata": {
        "id": "XESxm0OnU4Ym"
      },
      "execution_count": null,
      "outputs": []
    },
    {
      "cell_type": "code",
      "source": [
        "# Datasets from folders\n",
        "ttadata = {\n",
        "    'test':\n",
        "    datasets.ImageFolder(root=testdir, transform=tta_random_image_transforms)\n",
        "}\n",
        "\n",
        "\n",
        "# Dataloader iterators\n",
        "ttadataloader = {\n",
        "    'test': DataLoader(ttadata['test'], batch_size=512, shuffle=False,num_workers=0)\n",
        "}"
      ],
      "metadata": {
        "id": "Uk3ZKyzhVEy1"
      },
      "execution_count": null,
      "outputs": []
    },
    {
      "cell_type": "code",
      "source": [
        "def tta_preds_n_averaged(model, test_loader,n=5):\n",
        "    \"\"\"Returns the TTA preds from a trained PyTorch model\n",
        "\n",
        "    Params\n",
        "    --------\n",
        "        model (PyTorch model): trained cnn for inference\n",
        "        test_loader (PyTorch DataLoader): test dataloader\n",
        "        \n",
        "    Returns\n",
        "    --------\n",
        "        results (array): results for each category\n",
        "\n",
        "    \"\"\"\n",
        "    # Hold results\n",
        "    results = np.zeros((len(test_loader.dataset), n_classes))\n",
        "    bs = test_loader.batch_size\n",
        "    model.eval()\n",
        "    with torch.no_grad():\n",
        "        #aug loop:\n",
        "        for _ in range(n):\n",
        "            # Testing loop\n",
        "            tmp_pred = np.zeros((len(test_loader.dataset), n_classes))\n",
        "            for i,(data, targets) in enumerate(tqdm.tqdm(test_loader)):\n",
        "                # Tensors to gpu\n",
        "                if train_on_gpu:\n",
        "                    data, targets = data.to('cuda'), targets.to('cuda')\n",
        "\n",
        "                # Raw model output\n",
        "                out = model(data)\n",
        "                tmp_pred[i*bs:(i+1)*bs] = np.array(out.cpu())\n",
        "            \n",
        "            results+=tmp_pred\n",
        "    return results/n"
      ],
      "metadata": {
        "id": "KzI2qvuDVH6w"
      },
      "execution_count": null,
      "outputs": []
    },
    {
      "cell_type": "code",
      "source": [
        "preds_tta = tta_preds_n_averaged(model, ttadataloader['test'])"
      ],
      "metadata": {
        "id": "dEXrezbLVMXU"
      },
      "execution_count": null,
      "outputs": []
    },
    {
      "cell_type": "code",
      "source": [
        "preds_tta_index = np.argmax(preds_tta,axis=1)\n",
        "print(f\"TTA Accuracy: {sum(ttadata['test'].targets==preds_tta_index)/len(preds_tta_index)}\")"
      ],
      "metadata": {
        "id": "gnJcJI5tVYxv"
      },
      "execution_count": null,
      "outputs": []
    },
    {
      "cell_type": "code",
      "source": [
        "preddf = pd.DataFrame({'ttapreds':preds_tta_index,'truelabel':ttadata['test'].targets})\n",
        "preddf['tta_acc'] = preddf['ttapreds'] == preddf['truelabel']\n",
        "preddf['class'] = preddf['truelabel'].apply(lambda x: idx_to_class[x])\n",
        "category_tta= preddf.groupby(['class']).aggregate({'tta_acc':np.mean}).reset_index()"
      ],
      "metadata": {
        "id": "5qmigFJPVs9E"
      },
      "execution_count": null,
      "outputs": []
    },
    {
      "cell_type": "code",
      "source": [
        "ttaresults = results.merge(category_tta,on='class',how='left')[['class','top1','tta_acc', 'train_cnt', 'val_cnt',\n",
        "       'test_cnt']]"
      ],
      "metadata": {
        "id": "3_ZFZvyeVyEv"
      },
      "execution_count": null,
      "outputs": []
    },
    {
      "cell_type": "code",
      "source": [
        "ttaresults.columns = ['class', 'normal_acc', 'tta_acc', 'train_cnt', 'val_cnt', 'test_cnt']"
      ],
      "metadata": {
        "id": "pdEXhHpxV13D"
      },
      "execution_count": null,
      "outputs": []
    },
    {
      "cell_type": "code",
      "source": [
        "ttaresults['tta_acc']*=100"
      ],
      "metadata": {
        "id": "I9Erc3AFV4b1"
      },
      "execution_count": null,
      "outputs": []
    },
    {
      "cell_type": "code",
      "source": [
        "ttaresults"
      ],
      "metadata": {
        "id": "WIdlXGwnV8He"
      },
      "execution_count": null,
      "outputs": []
    }
  ]
}